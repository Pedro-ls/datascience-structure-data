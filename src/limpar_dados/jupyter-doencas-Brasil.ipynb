{
 "metadata": {
  "language_info": {
   "codemirror_mode": {
    "name": "ipython",
    "version": 3
   },
   "file_extension": ".py",
   "mimetype": "text/x-python",
   "name": "python",
   "nbconvert_exporter": "python",
   "pygments_lexer": "ipython3",
   "version": "3.7.2"
  },
  "orig_nbformat": 2,
  "kernelspec": {
   "name": "python372jvsc74a57bd0f1b92fc84d51dee66900cd713e78aeac54044e1a45cb991b0def4ba2b4ed9379",
   "display_name": "Python 3.7.2 32-bit"
  }
 },
 "nbformat": 4,
 "nbformat_minor": 2,
 "cells": [
  {
   "cell_type": "code",
   "execution_count": 2,
   "metadata": {},
   "outputs": [],
   "source": [
    "import pandas as pd\n",
    "import matplotlib.pyplot as plt"
   ]
  },
  {
   "cell_type": "code",
   "execution_count": 3,
   "metadata": {},
   "outputs": [],
   "source": [
    "txt = open(\"./A133916189_28_143_208.csv\", \"r\")"
   ]
  },
  {
   "cell_type": "code",
   "execution_count": 4,
   "metadata": {},
   "outputs": [],
   "source": [
    "texto = txt"
   ]
  },
  {
   "cell_type": "code",
   "execution_count": 5,
   "metadata": {},
   "outputs": [],
   "source": [
    "t = texto.read()"
   ]
  },
  {
   "cell_type": "code",
   "execution_count": 6,
   "metadata": {},
   "outputs": [],
   "source": [
    "t.lower()\n",
    "\n",
    "dados = t.split(\"\\n\")"
   ]
  },
  {
   "cell_type": "code",
   "execution_count": 7,
   "metadata": {},
   "outputs": [],
   "source": [
    "for i, dado in enumerate(dados):\n",
    "    dados[i] = dado.split(\";\")"
   ]
  },
  {
   "cell_type": "code",
   "execution_count": 8,
   "metadata": {},
   "outputs": [
    {
     "output_type": "execute_result",
     "data": {
      "text/plain": [
       "['Perï¿½odo:2019']"
      ]
     },
     "metadata": {},
     "execution_count": 8
    }
   ],
   "source": [
    "dados.pop(0)\n",
    "dados.pop(0)\n",
    "dados.pop(0)"
   ]
  },
  {
   "cell_type": "code",
   "execution_count": 9,
   "metadata": {},
   "outputs": [
    {
     "output_type": "execute_result",
     "data": {
      "text/plain": [
       "['\"Causa - CID-BR-10\"', '\"2019\"', '\"Total\"']"
      ]
     },
     "metadata": {},
     "execution_count": 9
    }
   ],
   "source": [
    "coluna = dados[0]\n",
    "\n",
    "dados.pop(0)"
   ]
  },
  {
   "cell_type": "code",
   "execution_count": 10,
   "metadata": {
    "tags": []
   },
   "outputs": [],
   "source": [
    "\n",
    "\n",
    "dados = pd.DataFrame(data=dados, columns=coluna).drop(\"\\\"Total\\\"\", axis=1)"
   ]
  },
  {
   "cell_type": "code",
   "execution_count": 11,
   "metadata": {},
   "outputs": [],
   "source": [
    "dados.columns = [\"Causas\", \"Total de Mortos\"]"
   ]
  },
  {
   "cell_type": "code",
   "execution_count": 12,
   "metadata": {},
   "outputs": [],
   "source": [
    "def tira_aspas(dado):\n",
    "    return dado.replace(\"\\\"\", \"\")"
   ]
  },
  {
   "cell_type": "code",
   "execution_count": 13,
   "metadata": {},
   "outputs": [],
   "source": [
    "dados[\"Causas\"] = dados[\"Causas\"].apply(tira_aspas)"
   ]
  },
  {
   "cell_type": "code",
   "execution_count": 14,
   "metadata": {},
   "outputs": [],
   "source": [
    "cancer = dados[\"Total de Mortos\"][36]"
   ]
  },
  {
   "cell_type": "code",
   "execution_count": 15,
   "metadata": {},
   "outputs": [],
   "source": [
    "hiv = dados[\"Total de Mortos\"][25]"
   ]
  },
  {
   "cell_type": "code",
   "execution_count": 16,
   "metadata": {},
   "outputs": [],
   "source": [
    "tuberculose = dados[\"Total de Mortos\"][5]"
   ]
  },
  {
   "cell_type": "code",
   "execution_count": 17,
   "metadata": {},
   "outputs": [],
   "source": [
    "dengue = dados[\"Total de Mortos\"][20]"
   ]
  },
  {
   "cell_type": "code",
   "execution_count": 18,
   "metadata": {},
   "outputs": [],
   "source": [
    "tetano = dados[\"Total de Mortos\"][11]"
   ]
  },
  {
   "cell_type": "code",
   "execution_count": 19,
   "metadata": {},
   "outputs": [],
   "source": [
    "febre_amarela = dados[\"Total de Mortos\"][21]"
   ]
  },
  {
   "cell_type": "code",
   "execution_count": 20,
   "metadata": {},
   "outputs": [],
   "source": [
    "sarampo = dados[\"Total de Mortos\"][11]"
   ]
  },
  {
   "cell_type": "code",
   "execution_count": 21,
   "metadata": {},
   "outputs": [],
   "source": [
    "malaria = dados[\"Total de Mortos\"][27]"
   ]
  },
  {
   "cell_type": "code",
   "execution_count": 22,
   "metadata": {},
   "outputs": [],
   "source": [
    "esquistossomose = dados[\"Total de Mortos\"][32]"
   ]
  },
  {
   "cell_type": "code",
   "execution_count": 23,
   "metadata": {},
   "outputs": [],
   "source": [
    "chagas = dados[\"Total de Mortos\"][29]"
   ]
  },
  {
   "cell_type": "code",
   "execution_count": 24,
   "metadata": {},
   "outputs": [],
   "source": [
    "leptospirose = dados[\"Total de Mortos\"][9]"
   ]
  },
  {
   "cell_type": "code",
   "execution_count": 25,
   "metadata": {},
   "outputs": [],
   "source": [
    "septicemia = dados[\"Total de Mortos\"][17]"
   ]
  },
  {
   "cell_type": "code",
   "execution_count": 26,
   "metadata": {},
   "outputs": [],
   "source": [
    "toxoplasmose = dados[\"Total de Mortos\"][30]"
   ]
  },
  {
   "cell_type": "code",
   "execution_count": 27,
   "metadata": {},
   "outputs": [],
   "source": [
    "hepatite_viral = dados[\"Total de Mortos\"][24]"
   ]
  },
  {
   "cell_type": "code",
   "execution_count": 28,
   "metadata": {},
   "outputs": [],
   "source": [
    "miningite = dados[\"Total de Mortos\"][70]"
   ]
  },
  {
   "cell_type": "code",
   "execution_count": 29,
   "metadata": {},
   "outputs": [],
   "source": [
    "Diabetes_mellitus = dados[\"Total de Mortos\"][62]"
   ]
  },
  {
   "cell_type": "code",
   "execution_count": 30,
   "metadata": {},
   "outputs": [],
   "source": [
    "alzheimer = dados[\"Total de Mortos\"][71]"
   ]
  },
  {
   "cell_type": "code",
   "execution_count": 31,
   "metadata": {},
   "outputs": [],
   "source": [
    "epilepsia = dados[\"Total de Mortos\"][72]"
   ]
  },
  {
   "cell_type": "code",
   "execution_count": 32,
   "metadata": {},
   "outputs": [],
   "source": [
    "pressao_alta = dados[\"Total de Mortos\"][78]"
   ]
  },
  {
   "cell_type": "code",
   "execution_count": 33,
   "metadata": {},
   "outputs": [],
   "source": [
    "sistema_nervoso = dados[\"Total de Mortos\"][73]"
   ]
  },
  {
   "cell_type": "code",
   "execution_count": 34,
   "metadata": {},
   "outputs": [],
   "source": [
    "asma = dados[\"Total de Mortos\"][91]"
   ]
  },
  {
   "cell_type": "code",
   "execution_count": 35,
   "metadata": {},
   "outputs": [],
   "source": [
    "renal = dados[\"Total de Mortos\"][105] + dados[\"Total de Mortos\"][106]"
   ]
  },
  {
   "cell_type": "code",
   "execution_count": 36,
   "metadata": {},
   "outputs": [],
   "source": [
    "influenza = dados[\"Total de Mortos\"][86]"
   ]
  },
  {
   "cell_type": "code",
   "execution_count": 37,
   "metadata": {},
   "outputs": [],
   "source": [
    "pneumonia = dados[\"Total de Mortos\"][87]"
   ]
  },
  {
   "cell_type": "code",
   "execution_count": 38,
   "metadata": {},
   "outputs": [],
   "source": [
    "bronquite = dados[\"Total de Mortos\"][89]"
   ]
  },
  {
   "cell_type": "code",
   "execution_count": 39,
   "metadata": {},
   "outputs": [],
   "source": [
    "figado = dados[\"Total de Mortos\"][96]"
   ]
  },
  {
   "cell_type": "code",
   "execution_count": 40,
   "metadata": {},
   "outputs": [],
   "source": [
    "respiratorio = dados[\"Total de Mortos\"][90]"
   ]
  },
  {
   "cell_type": "code",
   "execution_count": 41,
   "metadata": {},
   "outputs": [],
   "source": [
    "coracao = dados[\"Total de Mortos\"][76]"
   ]
  },
  {
   "cell_type": "code",
   "execution_count": 42,
   "metadata": {},
   "outputs": [],
   "source": [
    "doencas_brasil = {\n",
    "    \"chagas\": chagas,\n",
    "    \"dengue\": dengue,\n",
    "    \"cancer\": cancer,\n",
    "    \"leptospirose\": leptospirose,\n",
    "    \"toxoplasmose\":toxoplasmose,\n",
    "    \"hepatite viral\":hepatite_viral,\n",
    "    \"febre amarela\": febre_amarela,\n",
    "    \"septicemia\":septicemia,\n",
    "    \"aids\":hiv,\n",
    "    \"tetano\":tetano,\n",
    "    \"esquistossomose\": esquistossomose,\n",
    "    \"sarampo\":sarampo,\n",
    "    \"malaria\":malaria,\n",
    "    \"tuberculose\":tuberculose,\n",
    "    \"miningite\": miningite,\n",
    "    \"diabetes\":Diabetes_mellitus,\n",
    "    \"alzheimer\": alzheimer,\n",
    "    \"epilepsia\": epilepsia,\n",
    "    \"pressão alta\": pressao_alta,\n",
    "    \"asma\": asma,\n",
    "    \"renal\": renal,\n",
    "    \"influenza\": influenza,\n",
    "    \"pneumunia\": pneumonia,\n",
    "    \"Bronquiolite\": bronquite,\n",
    "    \"restante de problemas no sistema nervoso\": sistema_nervoso,\n",
    "    \"figado\": figado,\n",
    "    \"doenças respiratorias crônicas\": respiratorio,\n",
    "    \"doencas relacionadas ao coração\": coracao\n",
    "\n",
    "}"
   ]
  },
  {
   "cell_type": "code",
   "execution_count": 43,
   "metadata": {},
   "outputs": [
    {
     "output_type": "execute_result",
     "data": {
      "text/plain": [
       "                                                Causas Total de Mortos\n",
       "60   . 054 Rest d sangue, org hemat e alg transt im...            2517\n",
       "61   055-057 D ENDï¿½CRINAS, NUTRICIONAIS E METABï¿...           83485\n",
       "62                             . 055 Diabetes mellitus           66711\n",
       "63                               . 056 Desnutriï¿½ï¿½o            5309\n",
       "64   . 057 Rest doenï¿½as endï¿½cr, nutricion e met...           11465\n",
       "65       058-059 TRANSTORNOS MENTAIS E COMPORTAMENTAIS           14526\n",
       "66   . 058 Transt ment e comport uso subst psicoativas            8917\n",
       "67   ... 058.1 Trans ment e comport devid uso ï¿½lcool            6445\n",
       "68    . 059 Rest transtornos mentais e comportamentais            5609\n",
       "69                060-063 DOENï¿½AS DO SISTEMA NERVOSO           45235\n",
       "70                                     . 060 Meningite             879\n",
       "71                         . 061 Doenï¿½a de Alzheimer           23150\n",
       "72                                     . 062 Epilepsia            3268\n",
       "73     . 063 Restante das doenï¿½as do sistema nervoso           17938\n",
       "74                    064 DOENï¿½AS DOS OLHOS E ANEXOS              23\n",
       "75   065 DOENï¿½AS DO OUVIDO E DA APï¿½FISE MASTï¿½IDE             206\n",
       "76        066-072 DOENï¿½AS DO APARELHO CIRCULATï¿½RIO          364132\n",
       "77   . 066 Febre reumï¿½t aguda e doen reum crï¿½n ...            2120\n",
       "78                       . 067 Doenï¿½as hipertensivas           53796\n",
       "79         . 068 Doenï¿½as isquï¿½micas do coraï¿½ï¿½o          117549\n",
       "80              ... 068.1 Infarto agudo do miocï¿½rdio           95557\n",
       "81                  . 069 Outras doenï¿½as cardï¿½acas           70761\n",
       "82                   . 070 Doenï¿½as cerebrovasculares          101074\n",
       "83                                 . 071 Aterosclerose            1011\n",
       "84     . 072 Rest doenï¿½as do aparelho circulatï¿½rio           17821\n",
       "85        073-077 DOENï¿½AS DO APARELHO RESPIRATï¿½RIO          162005\n",
       "86                             . 073 Influenza (gripe)            1125\n",
       "87                                     . 074 Pneumonia           83080\n",
       "88   . 075 Out infec agudas das vias aï¿½reas infer...             961\n",
       "89                              ... 075.1 Bronquiolite             372\n",
       "90   . 076 Doenï¿½as crï¿½nicas das vias aï¿½reas i...           49694\n",
       "91                                      ... 076.1 Asma            2488\n",
       "92   . 077 Restante  doenï¿½as do aparelho respirat...           27145\n",
       "93             078-082 DOENï¿½AS DO APARELHO DIGESTIVO           68770\n",
       "94     . 078 ï¿½lcera gï¿½strica, duodenal e pï¿½ptica            4200\n",
       "95                                    . 079 Peritonite            1799\n",
       "96                         . 080 Doenï¿½as do fï¿½gado           25733\n",
       "97          ... 080.1 Doenï¿½a alcoï¿½lica do fï¿½gado            9799\n",
       "98             ... 080.2 Fibrose e cirrose do fï¿½gado            9506\n",
       "99              ... 080.3 Outras doenï¿½as do fï¿½gado            6428\n",
       "100                                  . 081 Colecistite            1937\n",
       "101         . 082 Rest doenï¿½as do aparelho digestivo           35101\n",
       "102        083 DOENï¿½AS DA PELE E TECIDO SUBCUTï¿½NEO            7152\n",
       "103   084 DOENï¿½AS SIST OSTEOMUSC E TECIDO CONJUNTIVO            6506\n",
       "104      085-087 DOENï¿½AS DO APARELHO GENITURINï¿½RIO           47566\n",
       "105  . 085 D glomerulares e d renais tï¿½bulo-inter...            5223\n",
       "106                        . 086 Insuficiï¿½ncia renal           16415\n",
       "107   . 087 Rest doenï¿½as do aparelho geniturinï¿½rio           25928\n",
       "108              088-092 GRAVIDEZ, PARTO E PUERPï¿½RIO            1725\n",
       "109               . 088 Gravidez que termina em aborto             108\n",
       "110          . 089 Outras causas obstï¿½tricas diretas             924\n",
       "111               . 090 Causas obstï¿½tricas indiretas             466\n",
       "112  . 091 Causa obstï¿½trica nï¿½o espec direta/in...              62\n",
       "113           . 092 Causas maternas tardias e sequelas             165\n",
       "114  093-097 ALG AFECï¿½ï¿½ES ORIGIN NO PERï¿½ODO P...           20354\n",
       "115   . 093 Feto e recemnasc afet fat mat e compl grav            5941\n",
       "116  . 094 Transt relac duraï¿½ï¿½o gestaï¿½ï¿½o e ...            1716\n",
       "117                         . 095 Traumatismo de parto              57\n",
       "118   . 096 Trans resp e cardiovas espec per perinatal            6854\n",
       "119  . 097 Rest afec originadas no perï¿½odo perinatal            5786"
      ],
      "text/html": "<div>\n<style scoped>\n    .dataframe tbody tr th:only-of-type {\n        vertical-align: middle;\n    }\n\n    .dataframe tbody tr th {\n        vertical-align: top;\n    }\n\n    .dataframe thead th {\n        text-align: right;\n    }\n</style>\n<table border=\"1\" class=\"dataframe\">\n  <thead>\n    <tr style=\"text-align: right;\">\n      <th></th>\n      <th>Causas</th>\n      <th>Total de Mortos</th>\n    </tr>\n  </thead>\n  <tbody>\n    <tr>\n      <th>60</th>\n      <td>. 054 Rest d sangue, org hemat e alg transt im...</td>\n      <td>2517</td>\n    </tr>\n    <tr>\n      <th>61</th>\n      <td>055-057 D ENDï¿½CRINAS, NUTRICIONAIS E METABï¿...</td>\n      <td>83485</td>\n    </tr>\n    <tr>\n      <th>62</th>\n      <td>. 055 Diabetes mellitus</td>\n      <td>66711</td>\n    </tr>\n    <tr>\n      <th>63</th>\n      <td>. 056 Desnutriï¿½ï¿½o</td>\n      <td>5309</td>\n    </tr>\n    <tr>\n      <th>64</th>\n      <td>. 057 Rest doenï¿½as endï¿½cr, nutricion e met...</td>\n      <td>11465</td>\n    </tr>\n    <tr>\n      <th>65</th>\n      <td>058-059 TRANSTORNOS MENTAIS E COMPORTAMENTAIS</td>\n      <td>14526</td>\n    </tr>\n    <tr>\n      <th>66</th>\n      <td>. 058 Transt ment e comport uso subst psicoativas</td>\n      <td>8917</td>\n    </tr>\n    <tr>\n      <th>67</th>\n      <td>... 058.1 Trans ment e comport devid uso ï¿½lcool</td>\n      <td>6445</td>\n    </tr>\n    <tr>\n      <th>68</th>\n      <td>. 059 Rest transtornos mentais e comportamentais</td>\n      <td>5609</td>\n    </tr>\n    <tr>\n      <th>69</th>\n      <td>060-063 DOENï¿½AS DO SISTEMA NERVOSO</td>\n      <td>45235</td>\n    </tr>\n    <tr>\n      <th>70</th>\n      <td>. 060 Meningite</td>\n      <td>879</td>\n    </tr>\n    <tr>\n      <th>71</th>\n      <td>. 061 Doenï¿½a de Alzheimer</td>\n      <td>23150</td>\n    </tr>\n    <tr>\n      <th>72</th>\n      <td>. 062 Epilepsia</td>\n      <td>3268</td>\n    </tr>\n    <tr>\n      <th>73</th>\n      <td>. 063 Restante das doenï¿½as do sistema nervoso</td>\n      <td>17938</td>\n    </tr>\n    <tr>\n      <th>74</th>\n      <td>064 DOENï¿½AS DOS OLHOS E ANEXOS</td>\n      <td>23</td>\n    </tr>\n    <tr>\n      <th>75</th>\n      <td>065 DOENï¿½AS DO OUVIDO E DA APï¿½FISE MASTï¿½IDE</td>\n      <td>206</td>\n    </tr>\n    <tr>\n      <th>76</th>\n      <td>066-072 DOENï¿½AS DO APARELHO CIRCULATï¿½RIO</td>\n      <td>364132</td>\n    </tr>\n    <tr>\n      <th>77</th>\n      <td>. 066 Febre reumï¿½t aguda e doen reum crï¿½n ...</td>\n      <td>2120</td>\n    </tr>\n    <tr>\n      <th>78</th>\n      <td>. 067 Doenï¿½as hipertensivas</td>\n      <td>53796</td>\n    </tr>\n    <tr>\n      <th>79</th>\n      <td>. 068 Doenï¿½as isquï¿½micas do coraï¿½ï¿½o</td>\n      <td>117549</td>\n    </tr>\n    <tr>\n      <th>80</th>\n      <td>... 068.1 Infarto agudo do miocï¿½rdio</td>\n      <td>95557</td>\n    </tr>\n    <tr>\n      <th>81</th>\n      <td>. 069 Outras doenï¿½as cardï¿½acas</td>\n      <td>70761</td>\n    </tr>\n    <tr>\n      <th>82</th>\n      <td>. 070 Doenï¿½as cerebrovasculares</td>\n      <td>101074</td>\n    </tr>\n    <tr>\n      <th>83</th>\n      <td>. 071 Aterosclerose</td>\n      <td>1011</td>\n    </tr>\n    <tr>\n      <th>84</th>\n      <td>. 072 Rest doenï¿½as do aparelho circulatï¿½rio</td>\n      <td>17821</td>\n    </tr>\n    <tr>\n      <th>85</th>\n      <td>073-077 DOENï¿½AS DO APARELHO RESPIRATï¿½RIO</td>\n      <td>162005</td>\n    </tr>\n    <tr>\n      <th>86</th>\n      <td>. 073 Influenza (gripe)</td>\n      <td>1125</td>\n    </tr>\n    <tr>\n      <th>87</th>\n      <td>. 074 Pneumonia</td>\n      <td>83080</td>\n    </tr>\n    <tr>\n      <th>88</th>\n      <td>. 075 Out infec agudas das vias aï¿½reas infer...</td>\n      <td>961</td>\n    </tr>\n    <tr>\n      <th>89</th>\n      <td>... 075.1 Bronquiolite</td>\n      <td>372</td>\n    </tr>\n    <tr>\n      <th>90</th>\n      <td>. 076 Doenï¿½as crï¿½nicas das vias aï¿½reas i...</td>\n      <td>49694</td>\n    </tr>\n    <tr>\n      <th>91</th>\n      <td>... 076.1 Asma</td>\n      <td>2488</td>\n    </tr>\n    <tr>\n      <th>92</th>\n      <td>. 077 Restante  doenï¿½as do aparelho respirat...</td>\n      <td>27145</td>\n    </tr>\n    <tr>\n      <th>93</th>\n      <td>078-082 DOENï¿½AS DO APARELHO DIGESTIVO</td>\n      <td>68770</td>\n    </tr>\n    <tr>\n      <th>94</th>\n      <td>. 078 ï¿½lcera gï¿½strica, duodenal e pï¿½ptica</td>\n      <td>4200</td>\n    </tr>\n    <tr>\n      <th>95</th>\n      <td>. 079 Peritonite</td>\n      <td>1799</td>\n    </tr>\n    <tr>\n      <th>96</th>\n      <td>. 080 Doenï¿½as do fï¿½gado</td>\n      <td>25733</td>\n    </tr>\n    <tr>\n      <th>97</th>\n      <td>... 080.1 Doenï¿½a alcoï¿½lica do fï¿½gado</td>\n      <td>9799</td>\n    </tr>\n    <tr>\n      <th>98</th>\n      <td>... 080.2 Fibrose e cirrose do fï¿½gado</td>\n      <td>9506</td>\n    </tr>\n    <tr>\n      <th>99</th>\n      <td>... 080.3 Outras doenï¿½as do fï¿½gado</td>\n      <td>6428</td>\n    </tr>\n    <tr>\n      <th>100</th>\n      <td>. 081 Colecistite</td>\n      <td>1937</td>\n    </tr>\n    <tr>\n      <th>101</th>\n      <td>. 082 Rest doenï¿½as do aparelho digestivo</td>\n      <td>35101</td>\n    </tr>\n    <tr>\n      <th>102</th>\n      <td>083 DOENï¿½AS DA PELE E TECIDO SUBCUTï¿½NEO</td>\n      <td>7152</td>\n    </tr>\n    <tr>\n      <th>103</th>\n      <td>084 DOENï¿½AS SIST OSTEOMUSC E TECIDO CONJUNTIVO</td>\n      <td>6506</td>\n    </tr>\n    <tr>\n      <th>104</th>\n      <td>085-087 DOENï¿½AS DO APARELHO GENITURINï¿½RIO</td>\n      <td>47566</td>\n    </tr>\n    <tr>\n      <th>105</th>\n      <td>. 085 D glomerulares e d renais tï¿½bulo-inter...</td>\n      <td>5223</td>\n    </tr>\n    <tr>\n      <th>106</th>\n      <td>. 086 Insuficiï¿½ncia renal</td>\n      <td>16415</td>\n    </tr>\n    <tr>\n      <th>107</th>\n      <td>. 087 Rest doenï¿½as do aparelho geniturinï¿½rio</td>\n      <td>25928</td>\n    </tr>\n    <tr>\n      <th>108</th>\n      <td>088-092 GRAVIDEZ, PARTO E PUERPï¿½RIO</td>\n      <td>1725</td>\n    </tr>\n    <tr>\n      <th>109</th>\n      <td>. 088 Gravidez que termina em aborto</td>\n      <td>108</td>\n    </tr>\n    <tr>\n      <th>110</th>\n      <td>. 089 Outras causas obstï¿½tricas diretas</td>\n      <td>924</td>\n    </tr>\n    <tr>\n      <th>111</th>\n      <td>. 090 Causas obstï¿½tricas indiretas</td>\n      <td>466</td>\n    </tr>\n    <tr>\n      <th>112</th>\n      <td>. 091 Causa obstï¿½trica nï¿½o espec direta/in...</td>\n      <td>62</td>\n    </tr>\n    <tr>\n      <th>113</th>\n      <td>. 092 Causas maternas tardias e sequelas</td>\n      <td>165</td>\n    </tr>\n    <tr>\n      <th>114</th>\n      <td>093-097 ALG AFECï¿½ï¿½ES ORIGIN NO PERï¿½ODO P...</td>\n      <td>20354</td>\n    </tr>\n    <tr>\n      <th>115</th>\n      <td>. 093 Feto e recemnasc afet fat mat e compl grav</td>\n      <td>5941</td>\n    </tr>\n    <tr>\n      <th>116</th>\n      <td>. 094 Transt relac duraï¿½ï¿½o gestaï¿½ï¿½o e ...</td>\n      <td>1716</td>\n    </tr>\n    <tr>\n      <th>117</th>\n      <td>. 095 Traumatismo de parto</td>\n      <td>57</td>\n    </tr>\n    <tr>\n      <th>118</th>\n      <td>. 096 Trans resp e cardiovas espec per perinatal</td>\n      <td>6854</td>\n    </tr>\n    <tr>\n      <th>119</th>\n      <td>. 097 Rest afec originadas no perï¿½odo perinatal</td>\n      <td>5786</td>\n    </tr>\n  </tbody>\n</table>\n</div>"
     },
     "metadata": {},
     "execution_count": 43
    }
   ],
   "source": [
    "dados[60:120]"
   ]
  },
  {
   "cell_type": "code",
   "execution_count": 44,
   "metadata": {},
   "outputs": [],
   "source": [
    "for doenca in doencas_brasil:\n",
    "    # oencas_brasil[i] = int(doenca)\n",
    "    doencas_brasil[doenca] = int(doencas_brasil[doenca])\n",
    "\n",
    "doencas = []\n",
    "qtds = []\n",
    "\n",
    "\n",
    "for i, doenca in enumerate(doencas_brasil):\n",
    "    doencas.append(doenca)\n",
    "    qtds.append(doencas_brasil[doenca])\n"
   ]
  },
  {
   "cell_type": "code",
   "execution_count": 45,
   "metadata": {},
   "outputs": [],
   "source": [
    "# plt.bar(doencas, qtds)\n",
    "\n",
    "dados[\"Total de Mortos\"][140]\n",
    "(dados.drop([i for i in range(140, 150, 1)])).to_csv(\"teste.csv\", columns=[\"Causas\", \"Total de Mortos\"], index=False)"
   ]
  },
  {
   "cell_type": "code",
   "execution_count": 49,
   "metadata": {},
   "outputs": [],
   "source": [
    "df_doencas = pd.DataFrame() \n",
    "df_doencas[\"Causas\"] = doencas\n",
    "df_doencas[\"Quantidade de mortos\"] = qtds\n",
    "df_doencas.to_csv(\"../code/data/saude/dados_brasil_2019_limpos.csv\", index=False)"
   ]
  }
 ]
}